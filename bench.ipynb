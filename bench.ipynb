{
 "cells": [
  {
   "cell_type": "code",
   "execution_count": 1,
   "metadata": {},
   "outputs": [
    {
     "name": "stdout",
     "output_type": "stream",
     "text": [
      "16\n"
     ]
    }
   ],
   "source": [
    "from sklearn.datasets import load_digits\n",
    "from sklearn.linear_model import LogisticRegression\n",
    "from sklearn.svm import SVC\n",
    "from sklearn.ensemble import RandomForestClassifier\n",
    "from sklearn.model_selection import RepeatedStratifiedKFold, cross_val_score\n",
    "\n",
    "from joblib import effective_n_jobs\n",
    "print(effective_n_jobs(-1))"
   ]
  },
  {
   "cell_type": "code",
   "execution_count": 2,
   "metadata": {},
   "outputs": [],
   "source": [
    "import os\n",
    "import pandas as pd\n",
    "import numpy as np\n",
    "from sklearn.preprocessing import MinMaxScaler\n",
    "from sklearn.ensemble import RandomForestClassifier\n",
    "from sklearn.utils import shuffle\n",
    "from sklearn.model_selection import cross_val_score, RepeatedStratifiedKFold\n",
    "\n",
    "\n",
    "def read_uci(dataset, stats=False):\n",
    "    path = f'{dataset}.txt'\n",
    "    df = pd.read_csv(path, delim_whitespace=True, header=None)\n",
    "    df = df.astype('float64')\n",
    "    data = df.values\n",
    "    X, Y = data[:, 1:], data[:, 0].astype('int32')\n",
    "    if Y.min() == 1:\n",
    "        Y -= 1\n",
    "    X = MinMaxScaler().fit_transform(X)\n",
    "    if stats:\n",
    "        labels, freq = np.unique(Y, return_counts=True)\n",
    "        print(dataset, X.shape, len(labels), freq.min()/freq.max(), freq)\n",
    "    return shuffle(X, Y, random_state=42)"
   ]
  },
  {
   "cell_type": "code",
   "execution_count": 3,
   "metadata": {},
   "outputs": [
    {
     "name": "stdout",
     "output_type": "stream",
     "text": [
      "letter (20000, 16) 26 0.9028290282902829 [789 766 736 805 768 775 773 734 755 747 739 761 792 783 753 803 783 758\n",
      " 748 796 813 764 752 787 786 734]\n",
      "0.9297650000000001\n",
      "CPU times: user 346 ms, sys: 103 ms, total: 449 ms\n",
      "Wall time: 34.4 s\n"
     ]
    }
   ],
   "source": [
    "%%time\n",
    "X,y = read_uci('letter',True)\n",
    "cv = RepeatedStratifiedKFold(n_splits=10,n_repeats=10)\n",
    "c = SVC()\n",
    "r = cross_val_score(c,X,y,cv=cv,n_jobs=16)\n",
    "print(r.mean())"
   ]
  },
  {
   "cell_type": "code",
   "execution_count": null,
   "metadata": {},
   "outputs": [],
   "source": []
  },
  {
   "cell_type": "code",
   "execution_count": null,
   "metadata": {},
   "outputs": [],
   "source": []
  }
 ],
 "metadata": {
  "kernelspec": {
   "display_name": "Python 3",
   "language": "python",
   "name": "python3"
  },
  "language_info": {
   "codemirror_mode": {
    "name": "ipython",
    "version": 3
   },
   "file_extension": ".py",
   "mimetype": "text/x-python",
   "name": "python",
   "nbconvert_exporter": "python",
   "pygments_lexer": "ipython3",
   "version": "3.7.6"
  }
 },
 "nbformat": 4,
 "nbformat_minor": 4
}
